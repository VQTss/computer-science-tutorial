{
 "cells": [
  {
   "cell_type": "code",
   "execution_count": 1,
   "id": "0d6aed8f",
   "metadata": {},
   "outputs": [],
   "source": [
    "import numpy as np"
   ]
  },
  {
   "cell_type": "code",
   "execution_count": 2,
   "id": "f4d1515d",
   "metadata": {},
   "outputs": [],
   "source": [
    "# Creatring numpy arrays from Python List"
   ]
  },
  {
   "cell_type": "code",
   "execution_count": 3,
   "id": "64940158",
   "metadata": {},
   "outputs": [
    {
     "data": {
      "text/plain": [
       "array([1, 2, 3, 4])"
      ]
     },
     "execution_count": 3,
     "metadata": {},
     "output_type": "execute_result"
    }
   ],
   "source": [
    "np.array([1,2,3,4])"
   ]
  },
  {
   "cell_type": "code",
   "execution_count": 4,
   "id": "974f9162",
   "metadata": {},
   "outputs": [
    {
     "data": {
      "text/plain": [
       "array([3.14, 4.  , 2.  , 5.6 ])"
      ]
     },
     "execution_count": 4,
     "metadata": {},
     "output_type": "execute_result"
    }
   ],
   "source": [
    "np.array([3.14,4,2,5.6])"
   ]
  },
  {
   "cell_type": "code",
   "execution_count": 6,
   "id": "fb402f74",
   "metadata": {},
   "outputs": [
    {
     "data": {
      "text/plain": [
       "array([1., 2., 3., 4., 5.], dtype=float32)"
      ]
     },
     "execution_count": 6,
     "metadata": {},
     "output_type": "execute_result"
    }
   ],
   "source": [
    "np.array([1,2,3,4,5], dtype='float32') # specify data type"
   ]
  },
  {
   "cell_type": "code",
   "execution_count": 7,
   "id": "67141d93",
   "metadata": {},
   "outputs": [],
   "source": [
    "a1 = np.array([1,2,3,4])"
   ]
  },
  {
   "cell_type": "code",
   "execution_count": 8,
   "id": "cdb7c4d9",
   "metadata": {},
   "outputs": [
    {
     "data": {
      "text/plain": [
       "numpy.ndarray"
      ]
     },
     "execution_count": 8,
     "metadata": {},
     "output_type": "execute_result"
    }
   ],
   "source": [
    "type(a1)"
   ]
  },
  {
   "cell_type": "code",
   "execution_count": 9,
   "id": "c9ab21fb",
   "metadata": {},
   "outputs": [],
   "source": [
    "a2 = np.array([[1,2,3],\n",
    "               [4,5,6]])"
   ]
  },
  {
   "cell_type": "code",
   "execution_count": 10,
   "id": "a61f2357",
   "metadata": {},
   "outputs": [
    {
     "data": {
      "text/plain": [
       "numpy.ndarray"
      ]
     },
     "execution_count": 10,
     "metadata": {},
     "output_type": "execute_result"
    }
   ],
   "source": [
    "type(a2)"
   ]
  },
  {
   "cell_type": "code",
   "execution_count": 11,
   "id": "debe8114",
   "metadata": {},
   "outputs": [
    {
     "data": {
      "text/plain": [
       "(2, 3)"
      ]
     },
     "execution_count": 11,
     "metadata": {},
     "output_type": "execute_result"
    }
   ],
   "source": [
    "a2.shape # return col and row"
   ]
  },
  {
   "cell_type": "code",
   "execution_count": 12,
   "id": "5425b0ee",
   "metadata": {},
   "outputs": [
    {
     "data": {
      "text/plain": [
       "2"
      ]
     },
     "execution_count": 12,
     "metadata": {},
     "output_type": "execute_result"
    }
   ],
   "source": [
    "a2.ndim # The number of dimensions of the array"
   ]
  },
  {
   "cell_type": "code",
   "execution_count": 13,
   "id": "0e29ea85",
   "metadata": {},
   "outputs": [
    {
     "data": {
      "text/plain": [
       "dtype('int32')"
      ]
     },
     "execution_count": 13,
     "metadata": {},
     "output_type": "execute_result"
    }
   ],
   "source": [
    "a2.dtype"
   ]
  },
  {
   "cell_type": "code",
   "execution_count": 14,
   "id": "918f41c2",
   "metadata": {},
   "outputs": [
    {
     "data": {
      "text/plain": [
       "6"
      ]
     },
     "execution_count": 14,
     "metadata": {},
     "output_type": "execute_result"
    }
   ],
   "source": [
    "a2.size # return total element in array"
   ]
  },
  {
   "cell_type": "code",
   "execution_count": 15,
   "id": "e1c00017",
   "metadata": {},
   "outputs": [],
   "source": [
    "# Creating number arrays : zeros , ones , full , arange, linepace"
   ]
  },
  {
   "cell_type": "code",
   "execution_count": 16,
   "id": "7d8a0815",
   "metadata": {},
   "outputs": [],
   "source": [
    "# zeros"
   ]
  },
  {
   "cell_type": "code",
   "execution_count": 17,
   "id": "c4bd6fbb",
   "metadata": {},
   "outputs": [
    {
     "data": {
      "text/plain": [
       "array([[0., 0., 0., 0.],\n",
       "       [0., 0., 0., 0.]])"
      ]
     },
     "execution_count": 17,
     "metadata": {},
     "output_type": "execute_result"
    }
   ],
   "source": [
    "np.zeros([2,4]) # shape , dtype , order . Return new array of give shape and type .At the same time fill with zeros"
   ]
  },
  {
   "cell_type": "code",
   "execution_count": 18,
   "id": "fae8f51e",
   "metadata": {},
   "outputs": [
    {
     "data": {
      "text/plain": [
       "dtype('float64')"
      ]
     },
     "execution_count": 18,
     "metadata": {},
     "output_type": "execute_result"
    }
   ],
   "source": [
    "np.zeros([2,4]).dtype"
   ]
  },
  {
   "cell_type": "code",
   "execution_count": 20,
   "id": "2eb95b34",
   "metadata": {
    "scrolled": true
   },
   "outputs": [
    {
     "data": {
      "text/plain": [
       "array([[0, 0, 0, 0],\n",
       "       [0, 0, 0, 0]])"
      ]
     },
     "execution_count": 20,
     "metadata": {},
     "output_type": "execute_result"
    }
   ],
   "source": [
    "np.zeros([2,4],dtype= int) "
   ]
  },
  {
   "cell_type": "code",
   "execution_count": 21,
   "id": "30cc89fa",
   "metadata": {},
   "outputs": [],
   "source": [
    "# ones"
   ]
  },
  {
   "cell_type": "code",
   "execution_count": 22,
   "id": "c539180e",
   "metadata": {},
   "outputs": [
    {
     "data": {
      "text/plain": [
       "array([[1, 1, 1, 1, 1],\n",
       "       [1, 1, 1, 1, 1],\n",
       "       [1, 1, 1, 1, 1]])"
      ]
     },
     "execution_count": 22,
     "metadata": {},
     "output_type": "execute_result"
    }
   ],
   "source": [
    "np.ones([3,5],dtype= int) # return new array with fill one"
   ]
  },
  {
   "cell_type": "code",
   "execution_count": 23,
   "id": "7c71844c",
   "metadata": {},
   "outputs": [
    {
     "data": {
      "text/plain": [
       "array([[1., 1., 1., 1., 1.],\n",
       "       [1., 1., 1., 1., 1.],\n",
       "       [1., 1., 1., 1., 1.]])"
      ]
     },
     "execution_count": 23,
     "metadata": {},
     "output_type": "execute_result"
    }
   ],
   "source": [
    "np.ones((3,5),dtype= float) # return new array with fill one"
   ]
  },
  {
   "cell_type": "code",
   "execution_count": 24,
   "id": "ec389948",
   "metadata": {},
   "outputs": [
    {
     "data": {
      "text/plain": [
       "array([ 0,  2,  4,  6,  8, 10, 12, 14, 16, 18])"
      ]
     },
     "execution_count": 24,
     "metadata": {},
     "output_type": "execute_result"
    }
   ],
   "source": [
    "# Creating an array filled  with linear sequence\n",
    "# Starting at 0, ending at 20 , stepping by 2\n",
    "# this is similar to the built-in  range() function\n",
    "np.arange(0,20,2)"
   ]
  },
  {
   "cell_type": "code",
   "execution_count": 25,
   "id": "b340d0c0",
   "metadata": {},
   "outputs": [],
   "source": [
    "b = np.arange(0,20,2)"
   ]
  },
  {
   "cell_type": "code",
   "execution_count": 26,
   "id": "5297d662",
   "metadata": {},
   "outputs": [
    {
     "data": {
      "text/plain": [
       "array([ 0,  2,  4,  6,  8, 10, 12, 14, 16, 18])"
      ]
     },
     "execution_count": 26,
     "metadata": {},
     "output_type": "execute_result"
    }
   ],
   "source": [
    "b"
   ]
  },
  {
   "cell_type": "code",
   "execution_count": 27,
   "id": "fa8bf06e",
   "metadata": {},
   "outputs": [
    {
     "name": "stdout",
     "output_type": "stream",
     "text": [
      "[ 0  2  4  6  8 10 12 14 16 18]\n"
     ]
    }
   ],
   "source": [
    "print(b)"
   ]
  },
  {
   "cell_type": "code",
   "execution_count": 28,
   "id": "994c7923",
   "metadata": {},
   "outputs": [],
   "source": [
    "# full"
   ]
  },
  {
   "cell_type": "code",
   "execution_count": 29,
   "id": "4259763a",
   "metadata": {},
   "outputs": [
    {
     "data": {
      "text/plain": [
       "array([[5, 5, 5, 5, 5],\n",
       "       [5, 5, 5, 5, 5],\n",
       "       [5, 5, 5, 5, 5]])"
      ]
     },
     "execution_count": 29,
     "metadata": {},
     "output_type": "execute_result"
    }
   ],
   "source": [
    "np.full((3,5),5) # return new array , filled with fill value"
   ]
  },
  {
   "cell_type": "code",
   "execution_count": 30,
   "id": "56bf30ba",
   "metadata": {},
   "outputs": [],
   "source": [
    "# linspace - linear space"
   ]
  },
  {
   "cell_type": "code",
   "execution_count": 31,
   "id": "bcb72e1c",
   "metadata": {},
   "outputs": [],
   "source": [
    "#Create an array of five values evenly space bettwen 0 and 1"
   ]
  },
  {
   "cell_type": "code",
   "execution_count": 32,
   "id": "4a3f96fb",
   "metadata": {},
   "outputs": [
    {
     "data": {
      "text/plain": [
       "array([0.  , 0.25, 0.5 , 0.75, 1.  ])"
      ]
     },
     "execution_count": 32,
     "metadata": {},
     "output_type": "execute_result"
    }
   ],
   "source": [
    "np.linspace(0,1,5)"
   ]
  },
  {
   "cell_type": "code",
   "execution_count": 33,
   "id": "6d817d1f",
   "metadata": {},
   "outputs": [],
   "source": [
    "# random"
   ]
  },
  {
   "cell_type": "code",
   "execution_count": 34,
   "id": "dd599500",
   "metadata": {},
   "outputs": [
    {
     "data": {
      "text/plain": [
       "array([[0.78060202, 0.10668944, 0.65379018, 0.96490794],\n",
       "       [0.23617935, 0.55875453, 0.31704961, 0.48737646],\n",
       "       [0.93254165, 0.65997767, 0.53056675, 0.40640853],\n",
       "       [0.40241815, 0.11788191, 0.87851235, 0.57356256]])"
      ]
     },
     "execution_count": 34,
     "metadata": {},
     "output_type": "execute_result"
    }
   ],
   "source": [
    "np.random.random((4,4))"
   ]
  },
  {
   "cell_type": "code",
   "execution_count": 35,
   "id": "448e5692",
   "metadata": {},
   "outputs": [
    {
     "data": {
      "text/plain": [
       "array([[0.5488135 , 0.71518937, 0.60276338, 0.54488318],\n",
       "       [0.4236548 , 0.64589411, 0.43758721, 0.891773  ],\n",
       "       [0.96366276, 0.38344152, 0.79172504, 0.52889492],\n",
       "       [0.56804456, 0.92559664, 0.07103606, 0.0871293 ]])"
      ]
     },
     "execution_count": 35,
     "metadata": {},
     "output_type": "execute_result"
    }
   ],
   "source": [
    "np.random.seed(0)\n",
    "np.random.random((4,4))"
   ]
  },
  {
   "cell_type": "code",
   "execution_count": 36,
   "id": "07240098",
   "metadata": {},
   "outputs": [
    {
     "data": {
      "text/plain": [
       "array([[ 0.44386323,  0.33367433,  1.49407907],\n",
       "       [-0.20515826,  0.3130677 , -0.85409574],\n",
       "       [-2.55298982,  0.6536186 ,  0.8644362 ]])"
      ]
     },
     "execution_count": 36,
     "metadata": {},
     "output_type": "execute_result"
    }
   ],
   "source": [
    "np.random.normal(0,1,(3,3)) # mean , standard deviation "
   ]
  },
  {
   "cell_type": "code",
   "execution_count": 37,
   "id": "d34b4840",
   "metadata": {},
   "outputs": [
    {
     "data": {
      "text/plain": [
       "array([8, 3, 1, 1, 5])"
      ]
     },
     "execution_count": 37,
     "metadata": {},
     "output_type": "execute_result"
    }
   ],
   "source": [
    "np.random.randint(1,10,5)"
   ]
  },
  {
   "cell_type": "code",
   "execution_count": 38,
   "id": "d5de2441",
   "metadata": {},
   "outputs": [
    {
     "data": {
      "text/plain": [
       "array([[6, 6, 7, 9, 5],\n",
       "       [2, 5, 9, 2, 2],\n",
       "       [8, 4, 7, 8, 3]])"
      ]
     },
     "execution_count": 38,
     "metadata": {},
     "output_type": "execute_result"
    }
   ],
   "source": [
    "np.random.randint(1,10,(3,5))"
   ]
  },
  {
   "cell_type": "code",
   "execution_count": 39,
   "id": "e504eaf6",
   "metadata": {},
   "outputs": [
    {
     "data": {
      "text/plain": [
       "array([[0.1289263 , 0.31542835, 0.36371077, 0.57019677],\n",
       "       [0.43860151, 0.98837384, 0.10204481, 0.20887676],\n",
       "       [0.16130952, 0.65310833, 0.2532916 , 0.46631077],\n",
       "       [0.24442559, 0.15896958, 0.11037514, 0.65632959]])"
      ]
     },
     "execution_count": 39,
     "metadata": {},
     "output_type": "execute_result"
    }
   ],
   "source": [
    "np.random.rand(4,4)"
   ]
  },
  {
   "cell_type": "code",
   "execution_count": 40,
   "id": "436c371b",
   "metadata": {},
   "outputs": [],
   "source": [
    "# array indexing & slicing\n",
    "# one - dimensional subarray"
   ]
  },
  {
   "cell_type": "code",
   "execution_count": 41,
   "id": "471301a7",
   "metadata": {},
   "outputs": [],
   "source": [
    "x1 = np.random.randint(20,size=6)"
   ]
  },
  {
   "cell_type": "code",
   "execution_count": 42,
   "id": "d461026f",
   "metadata": {},
   "outputs": [
    {
     "data": {
      "text/plain": [
       "array([17,  5,  9,  3,  0,  5])"
      ]
     },
     "execution_count": 42,
     "metadata": {},
     "output_type": "execute_result"
    }
   ],
   "source": [
    "x1"
   ]
  },
  {
   "cell_type": "code",
   "execution_count": 45,
   "id": "5a2452eb",
   "metadata": {},
   "outputs": [
    {
     "data": {
      "text/plain": [
       "(0, 17, 5)"
      ]
     },
     "execution_count": 45,
     "metadata": {},
     "output_type": "execute_result"
    }
   ],
   "source": [
    "x1[4] , x1[0] , x1[-1]"
   ]
  },
  {
   "cell_type": "code",
   "execution_count": 46,
   "id": "a03b41ce",
   "metadata": {},
   "outputs": [],
   "source": [
    "# Multi-dimensional array"
   ]
  },
  {
   "cell_type": "code",
   "execution_count": 47,
   "id": "6f7ac2ba",
   "metadata": {},
   "outputs": [],
   "source": [
    "x2 =  np.random.randint(10,size=(3,4))"
   ]
  },
  {
   "cell_type": "code",
   "execution_count": 48,
   "id": "39d7fc67",
   "metadata": {},
   "outputs": [
    {
     "data": {
      "text/plain": [
       "array([[0, 1, 2, 4],\n",
       "       [2, 0, 3, 2],\n",
       "       [0, 7, 5, 9]])"
      ]
     },
     "execution_count": 48,
     "metadata": {},
     "output_type": "execute_result"
    }
   ],
   "source": [
    "x2"
   ]
  },
  {
   "cell_type": "code",
   "execution_count": 49,
   "id": "3c325e57",
   "metadata": {},
   "outputs": [
    {
     "data": {
      "text/plain": [
       "3"
      ]
     },
     "execution_count": 49,
     "metadata": {},
     "output_type": "execute_result"
    }
   ],
   "source": [
    "x2[1,2]"
   ]
  },
  {
   "cell_type": "code",
   "execution_count": 50,
   "id": "01064814",
   "metadata": {},
   "outputs": [],
   "source": [
    "x2[1,2] = 6"
   ]
  },
  {
   "cell_type": "code",
   "execution_count": 51,
   "id": "c6419e63",
   "metadata": {},
   "outputs": [
    {
     "data": {
      "text/plain": [
       "array([[0, 1, 2, 4],\n",
       "       [2, 0, 6, 2],\n",
       "       [0, 7, 5, 9]])"
      ]
     },
     "execution_count": 51,
     "metadata": {},
     "output_type": "execute_result"
    }
   ],
   "source": [
    "x2"
   ]
  },
  {
   "cell_type": "code",
   "execution_count": 52,
   "id": "2629ca0b",
   "metadata": {},
   "outputs": [],
   "source": [
    "# slicing x[start:stop:step]"
   ]
  },
  {
   "cell_type": "code",
   "execution_count": 53,
   "id": "c3fc2f02",
   "metadata": {},
   "outputs": [
    {
     "data": {
      "text/plain": [
       "array([17,  5,  9,  3,  0,  5])"
      ]
     },
     "execution_count": 53,
     "metadata": {},
     "output_type": "execute_result"
    }
   ],
   "source": [
    "x1"
   ]
  },
  {
   "cell_type": "code",
   "execution_count": 54,
   "id": "38009bc0",
   "metadata": {},
   "outputs": [
    {
     "data": {
      "text/plain": [
       "array([17,  5,  9])"
      ]
     },
     "execution_count": 54,
     "metadata": {},
     "output_type": "execute_result"
    }
   ],
   "source": [
    "x1[0:3]"
   ]
  },
  {
   "cell_type": "code",
   "execution_count": 55,
   "id": "3e1e29fd",
   "metadata": {},
   "outputs": [],
   "source": [
    "# every other element, every 2 step"
   ]
  },
  {
   "cell_type": "code",
   "execution_count": 56,
   "id": "6266f2c8",
   "metadata": {},
   "outputs": [
    {
     "data": {
      "text/plain": [
       "array([17,  9,  0])"
      ]
     },
     "execution_count": 56,
     "metadata": {},
     "output_type": "execute_result"
    }
   ],
   "source": [
    "x1[::2]"
   ]
  },
  {
   "cell_type": "code",
   "execution_count": 57,
   "id": "11761be2",
   "metadata": {},
   "outputs": [
    {
     "data": {
      "text/plain": [
       "array([[0, 1, 2, 4],\n",
       "       [2, 0, 6, 2],\n",
       "       [0, 7, 5, 9]])"
      ]
     },
     "execution_count": 57,
     "metadata": {},
     "output_type": "execute_result"
    }
   ],
   "source": [
    "x2"
   ]
  },
  {
   "cell_type": "code",
   "execution_count": 58,
   "id": "e75dc118",
   "metadata": {},
   "outputs": [
    {
     "data": {
      "text/plain": [
       "array([[0, 1, 2],\n",
       "       [2, 0, 6]])"
      ]
     },
     "execution_count": 58,
     "metadata": {},
     "output_type": "execute_result"
    }
   ],
   "source": [
    "# two rows , three columns\n",
    "x2[:2,:3]"
   ]
  },
  {
   "cell_type": "code",
   "execution_count": 59,
   "id": "01715893",
   "metadata": {},
   "outputs": [
    {
     "data": {
      "text/plain": [
       "array([[0, 1],\n",
       "       [2, 0],\n",
       "       [0, 7]])"
      ]
     },
     "execution_count": 59,
     "metadata": {},
     "output_type": "execute_result"
    }
   ],
   "source": [
    "x2[:,:2]"
   ]
  },
  {
   "cell_type": "code",
   "execution_count": 60,
   "id": "f3eace1d",
   "metadata": {},
   "outputs": [],
   "source": [
    "# Reshaping of array & transpose"
   ]
  },
  {
   "cell_type": "code",
   "execution_count": 62,
   "id": "d37f3539",
   "metadata": {},
   "outputs": [
    {
     "data": {
      "text/plain": [
       "(9,)"
      ]
     },
     "execution_count": 62,
     "metadata": {},
     "output_type": "execute_result"
    }
   ],
   "source": [
    "grid = np.arange(1,10)\n",
    "grid.shape"
   ]
  },
  {
   "cell_type": "code",
   "execution_count": 63,
   "id": "02b75a70",
   "metadata": {},
   "outputs": [
    {
     "data": {
      "text/plain": [
       "array([[1, 2, 3],\n",
       "       [4, 5, 6],\n",
       "       [7, 8, 9]])"
      ]
     },
     "execution_count": 63,
     "metadata": {},
     "output_type": "execute_result"
    }
   ],
   "source": [
    "grid.reshape((3,3))"
   ]
  },
  {
   "cell_type": "code",
   "execution_count": 64,
   "id": "3a62b83a",
   "metadata": {},
   "outputs": [],
   "source": [
    "x = np.array([1,2,3])"
   ]
  },
  {
   "cell_type": "code",
   "execution_count": 65,
   "id": "ec8e1589",
   "metadata": {},
   "outputs": [
    {
     "data": {
      "text/plain": [
       "(3,)"
      ]
     },
     "execution_count": 65,
     "metadata": {},
     "output_type": "execute_result"
    }
   ],
   "source": [
    "x.shape"
   ]
  },
  {
   "cell_type": "code",
   "execution_count": 66,
   "id": "8119a186",
   "metadata": {},
   "outputs": [
    {
     "data": {
      "text/plain": [
       "(1, 3)"
      ]
     },
     "execution_count": 66,
     "metadata": {},
     "output_type": "execute_result"
    }
   ],
   "source": [
    "x.reshape((1,3)).shape"
   ]
  },
  {
   "cell_type": "code",
   "execution_count": 68,
   "id": "85357d94",
   "metadata": {},
   "outputs": [],
   "source": [
    "# transpose"
   ]
  },
  {
   "cell_type": "code",
   "execution_count": 70,
   "id": "86827b15",
   "metadata": {},
   "outputs": [],
   "source": [
    "x = np.array([[1.,2.],[3.,4.]])"
   ]
  },
  {
   "cell_type": "code",
   "execution_count": 71,
   "id": "1dda4caa",
   "metadata": {},
   "outputs": [
    {
     "data": {
      "text/plain": [
       "array([[1., 2.],\n",
       "       [3., 4.]])"
      ]
     },
     "execution_count": 71,
     "metadata": {},
     "output_type": "execute_result"
    }
   ],
   "source": [
    "x"
   ]
  },
  {
   "cell_type": "code",
   "execution_count": 72,
   "id": "2a2a7212",
   "metadata": {},
   "outputs": [
    {
     "data": {
      "text/plain": [
       "array([[1., 3.],\n",
       "       [2., 4.]])"
      ]
     },
     "execution_count": 72,
     "metadata": {},
     "output_type": "execute_result"
    }
   ],
   "source": [
    "x.T"
   ]
  },
  {
   "cell_type": "code",
   "execution_count": 73,
   "id": "00eea3ab",
   "metadata": {},
   "outputs": [],
   "source": [
    "# Array contactenation and splitting"
   ]
  },
  {
   "cell_type": "code",
   "execution_count": 74,
   "id": "17abc193",
   "metadata": {},
   "outputs": [],
   "source": [
    "x = np.array([1,2,3])\n",
    "y =  np.array([3,2,1])"
   ]
  },
  {
   "cell_type": "code",
   "execution_count": 75,
   "id": "67a940c3",
   "metadata": {},
   "outputs": [
    {
     "data": {
      "text/plain": [
       "array([1, 2, 3, 3, 2, 1])"
      ]
     },
     "execution_count": 75,
     "metadata": {},
     "output_type": "execute_result"
    }
   ],
   "source": [
    "np.concatenate((x,y)) # axis = 0  : row by default"
   ]
  },
  {
   "cell_type": "code",
   "execution_count": 76,
   "id": "3383559a",
   "metadata": {},
   "outputs": [
    {
     "data": {
      "text/plain": [
       "array([[1, 2, 3],\n",
       "       [4, 5, 6]])"
      ]
     },
     "execution_count": 76,
     "metadata": {},
     "output_type": "execute_result"
    }
   ],
   "source": [
    "grid = np.array([[1,2,3],\n",
    "                [4,5,6]])\n",
    "grid"
   ]
  },
  {
   "cell_type": "code",
   "execution_count": 77,
   "id": "def47e04",
   "metadata": {},
   "outputs": [
    {
     "data": {
      "text/plain": [
       "array([[1, 2, 3, 1, 2, 3],\n",
       "       [4, 5, 6, 4, 5, 6]])"
      ]
     },
     "execution_count": 77,
     "metadata": {},
     "output_type": "execute_result"
    }
   ],
   "source": [
    "np.concatenate((grid,grid),axis=1)"
   ]
  },
  {
   "cell_type": "code",
   "execution_count": 78,
   "id": "1d69b4a4",
   "metadata": {},
   "outputs": [],
   "source": [
    "# vstack"
   ]
  },
  {
   "cell_type": "code",
   "execution_count": 80,
   "id": "fcd661f0",
   "metadata": {},
   "outputs": [],
   "source": [
    "x = np.array([1,2,3])\n",
    "grid = np.array([[9,8,7],\n",
    "                [6,5,4]])"
   ]
  },
  {
   "cell_type": "code",
   "execution_count": 81,
   "id": "99809cb5",
   "metadata": {},
   "outputs": [
    {
     "data": {
      "text/plain": [
       "array([[1, 2, 3],\n",
       "       [9, 8, 7],\n",
       "       [6, 5, 4]])"
      ]
     },
     "execution_count": 81,
     "metadata": {},
     "output_type": "execute_result"
    }
   ],
   "source": [
    "np.vstack((x,grid))"
   ]
  },
  {
   "cell_type": "code",
   "execution_count": 82,
   "id": "e1e1622d",
   "metadata": {},
   "outputs": [],
   "source": [
    "# horizontally stack  the arrays : hstack"
   ]
  },
  {
   "cell_type": "code",
   "execution_count": 83,
   "id": "d0e1082c",
   "metadata": {},
   "outputs": [
    {
     "data": {
      "text/plain": [
       "array([[99,  9,  8,  7],\n",
       "       [99,  6,  5,  4]])"
      ]
     },
     "execution_count": 83,
     "metadata": {},
     "output_type": "execute_result"
    }
   ],
   "source": [
    "y = np.array([[99],[99]])\n",
    "np.hstack((y,grid))"
   ]
  },
  {
   "cell_type": "code",
   "execution_count": 84,
   "id": "2779433f",
   "metadata": {},
   "outputs": [],
   "source": [
    "# splitting of arrays"
   ]
  },
  {
   "cell_type": "code",
   "execution_count": 86,
   "id": "2be34792",
   "metadata": {},
   "outputs": [],
   "source": [
    "x = np.array([1,2,3,99,69,3,2,1])\n",
    "x1 , x2, x3 =  np.split(x,[3,5])"
   ]
  },
  {
   "cell_type": "code",
   "execution_count": 87,
   "id": "4e4a5294",
   "metadata": {},
   "outputs": [
    {
     "data": {
      "text/plain": [
       "(array([1, 2, 3]), array([99, 69]), array([3, 2, 1]))"
      ]
     },
     "execution_count": 87,
     "metadata": {},
     "output_type": "execute_result"
    }
   ],
   "source": [
    "x1, x2 ,x3 "
   ]
  },
  {
   "cell_type": "code",
   "execution_count": 88,
   "id": "4cb7887a",
   "metadata": {},
   "outputs": [],
   "source": [
    "# broadcasting and vectorized operations"
   ]
  },
  {
   "cell_type": "code",
   "execution_count": 89,
   "id": "23aae089",
   "metadata": {},
   "outputs": [],
   "source": [
    "a = np.arange(3)"
   ]
  },
  {
   "cell_type": "code",
   "execution_count": 90,
   "id": "24914603",
   "metadata": {},
   "outputs": [
    {
     "data": {
      "text/plain": [
       "array([0, 1, 2])"
      ]
     },
     "execution_count": 90,
     "metadata": {},
     "output_type": "execute_result"
    }
   ],
   "source": [
    "a"
   ]
  },
  {
   "cell_type": "code",
   "execution_count": 91,
   "id": "d3ab8835",
   "metadata": {},
   "outputs": [
    {
     "data": {
      "text/plain": [
       "array([5, 6, 7])"
      ]
     },
     "execution_count": 91,
     "metadata": {},
     "output_type": "execute_result"
    }
   ],
   "source": [
    "a + 5 # broadcasting"
   ]
  },
  {
   "cell_type": "code",
   "execution_count": 92,
   "id": "fc130a4c",
   "metadata": {},
   "outputs": [],
   "source": [
    "b  = np.ones((3,3))"
   ]
  },
  {
   "cell_type": "code",
   "execution_count": 93,
   "id": "e53d0cca",
   "metadata": {},
   "outputs": [
    {
     "data": {
      "text/plain": [
       "array([[1., 1., 1.],\n",
       "       [1., 1., 1.],\n",
       "       [1., 1., 1.]])"
      ]
     },
     "execution_count": 93,
     "metadata": {},
     "output_type": "execute_result"
    }
   ],
   "source": [
    "b"
   ]
  },
  {
   "cell_type": "code",
   "execution_count": 94,
   "id": "73f1a823",
   "metadata": {},
   "outputs": [
    {
     "data": {
      "text/plain": [
       "((3,), (3, 3))"
      ]
     },
     "execution_count": 94,
     "metadata": {},
     "output_type": "execute_result"
    }
   ],
   "source": [
    "a.shape , b.shape\n"
   ]
  },
  {
   "cell_type": "code",
   "execution_count": 95,
   "id": "a151d989",
   "metadata": {},
   "outputs": [
    {
     "data": {
      "text/plain": [
       "array([[1., 2., 3.],\n",
       "       [1., 2., 3.],\n",
       "       [1., 2., 3.]])"
      ]
     },
     "execution_count": 95,
     "metadata": {},
     "output_type": "execute_result"
    }
   ],
   "source": [
    " a+ b"
   ]
  },
  {
   "cell_type": "code",
   "execution_count": 97,
   "id": "d87040bc",
   "metadata": {},
   "outputs": [
    {
     "data": {
      "text/plain": [
       "array([[0., 1., 2.],\n",
       "       [0., 1., 2.],\n",
       "       [0., 1., 2.]])"
      ]
     },
     "execution_count": 97,
     "metadata": {},
     "output_type": "execute_result"
    }
   ],
   "source": [
    " a * b "
   ]
  },
  {
   "cell_type": "code",
   "execution_count": 98,
   "id": "b44300f8",
   "metadata": {},
   "outputs": [],
   "source": [
    "c = np.arange(3).reshape(3,1)"
   ]
  },
  {
   "cell_type": "code",
   "execution_count": 99,
   "id": "1c54ea78",
   "metadata": {},
   "outputs": [
    {
     "data": {
      "text/plain": [
       "array([[0],\n",
       "       [1],\n",
       "       [2]])"
      ]
     },
     "execution_count": 99,
     "metadata": {},
     "output_type": "execute_result"
    }
   ],
   "source": [
    "c"
   ]
  },
  {
   "cell_type": "code",
   "execution_count": 100,
   "id": "49fd2c53",
   "metadata": {},
   "outputs": [
    {
     "data": {
      "text/plain": [
       "array([[0, 1, 2],\n",
       "       [1, 2, 3],\n",
       "       [2, 3, 4]])"
      ]
     },
     "execution_count": 100,
     "metadata": {},
     "output_type": "execute_result"
    }
   ],
   "source": [
    "c + a"
   ]
  },
  {
   "cell_type": "code",
   "execution_count": 101,
   "id": "8eed6855",
   "metadata": {},
   "outputs": [],
   "source": [
    "# Manipulating  and comparing arrays\n",
    "# aggregation "
   ]
  },
  {
   "cell_type": "code",
   "execution_count": 102,
   "id": "c3735393",
   "metadata": {},
   "outputs": [],
   "source": [
    "list_number = [1,2,3]"
   ]
  },
  {
   "cell_type": "code",
   "execution_count": 103,
   "id": "9d9e1691",
   "metadata": {},
   "outputs": [],
   "source": [
    "ll = np.array(list_number)"
   ]
  },
  {
   "cell_type": "code",
   "execution_count": 104,
   "id": "7d1acbfa",
   "metadata": {},
   "outputs": [
    {
     "data": {
      "text/plain": [
       "array([1, 2, 3])"
      ]
     },
     "execution_count": 104,
     "metadata": {},
     "output_type": "execute_result"
    }
   ],
   "source": [
    "ll"
   ]
  },
  {
   "cell_type": "code",
   "execution_count": 105,
   "id": "6e16f0b5",
   "metadata": {},
   "outputs": [
    {
     "data": {
      "text/plain": [
       "6"
      ]
     },
     "execution_count": 105,
     "metadata": {},
     "output_type": "execute_result"
    }
   ],
   "source": [
    "sum(ll) # python sum()"
   ]
  },
  {
   "cell_type": "code",
   "execution_count": 106,
   "id": "1fb35cad",
   "metadata": {},
   "outputs": [
    {
     "data": {
      "text/plain": [
       "6"
      ]
     },
     "execution_count": 106,
     "metadata": {},
     "output_type": "execute_result"
    }
   ],
   "source": [
    "np.sum(ll) # Numpu sum()"
   ]
  },
  {
   "cell_type": "code",
   "execution_count": 107,
   "id": "075a30ef",
   "metadata": {},
   "outputs": [
    {
     "data": {
      "text/plain": [
       "(10000,)"
      ]
     },
     "execution_count": 107,
     "metadata": {},
     "output_type": "execute_result"
    }
   ],
   "source": [
    "# Create a massitive Numpy array\n",
    "massitive_array =  np.random.random(10000)\n",
    "massitive_array[:5]\n",
    "massitive_array.shape"
   ]
  },
  {
   "cell_type": "code",
   "execution_count": 110,
   "id": "ee0edb8a",
   "metadata": {},
   "outputs": [
    {
     "name": "stdout",
     "output_type": "stream",
     "text": [
      "873 µs ± 80 µs per loop (mean ± std. dev. of 7 runs, 1000 loops each)\n",
      "8.9 µs ± 196 ns per loop (mean ± std. dev. of 7 runs, 100000 loops each)\n"
     ]
    }
   ],
   "source": [
    "%timeit  sum(massitive_array) # Python build-in fuction sum\n",
    "%timeit np.sum(massitive_array) #Numpy's np.sum"
   ]
  },
  {
   "cell_type": "code",
   "execution_count": 111,
   "id": "02efb64a",
   "metadata": {},
   "outputs": [
    {
     "data": {
      "text/plain": [
       "0.5012860612205885"
      ]
     },
     "execution_count": 111,
     "metadata": {},
     "output_type": "execute_result"
    }
   ],
   "source": [
    "np.mean(massitive_array)"
   ]
  },
  {
   "cell_type": "code",
   "execution_count": 112,
   "id": "0203f36f",
   "metadata": {},
   "outputs": [
    {
     "data": {
      "text/plain": [
       "0.9999709462497284"
      ]
     },
     "execution_count": 112,
     "metadata": {},
     "output_type": "execute_result"
    }
   ],
   "source": [
    "np.max(massitive_array)"
   ]
  },
  {
   "cell_type": "code",
   "execution_count": 113,
   "id": "ea73bff1",
   "metadata": {},
   "outputs": [
    {
     "data": {
      "text/plain": [
       "2.0027530115096503e-05"
      ]
     },
     "execution_count": 113,
     "metadata": {},
     "output_type": "execute_result"
    }
   ],
   "source": [
    "np.min(massitive_array)"
   ]
  },
  {
   "cell_type": "code",
   "execution_count": 114,
   "id": "f091aa64",
   "metadata": {},
   "outputs": [],
   "source": [
    "dog_height = np.array([600,470,170,430,300])"
   ]
  },
  {
   "cell_type": "code",
   "execution_count": 115,
   "id": "298293df",
   "metadata": {},
   "outputs": [
    {
     "data": {
      "text/plain": [
       "147.32277488562318"
      ]
     },
     "execution_count": 115,
     "metadata": {},
     "output_type": "execute_result"
    }
   ],
   "source": [
    "np.std(dog_height) # standard deviation"
   ]
  },
  {
   "cell_type": "code",
   "execution_count": 116,
   "id": "57e81712",
   "metadata": {},
   "outputs": [
    {
     "data": {
      "text/plain": [
       "21704.0"
      ]
     },
     "execution_count": 116,
     "metadata": {},
     "output_type": "execute_result"
    }
   ],
   "source": [
    "np.var(dog_height) # variance"
   ]
  },
  {
   "cell_type": "code",
   "execution_count": 118,
   "id": "28969a93",
   "metadata": {},
   "outputs": [],
   "source": [
    "# sorting arrays\n",
    "# np.sort uses an quicksort algorithms"
   ]
  },
  {
   "cell_type": "code",
   "execution_count": 119,
   "id": "b72b1e8e",
   "metadata": {},
   "outputs": [
    {
     "data": {
      "text/plain": [
       "array([1, 2, 3, 4, 5])"
      ]
     },
     "execution_count": 119,
     "metadata": {},
     "output_type": "execute_result"
    }
   ],
   "source": [
    "x =  np.array([2,1,3,4,5])\n",
    "np.sort(x)"
   ]
  },
  {
   "cell_type": "code",
   "execution_count": 120,
   "id": "a2c04b7c",
   "metadata": {},
   "outputs": [
    {
     "data": {
      "text/plain": [
       "array([1, 0, 2, 3, 4], dtype=int64)"
      ]
     },
     "execution_count": 120,
     "metadata": {},
     "output_type": "execute_result"
    }
   ],
   "source": [
    "# a related function is argsort. which instead returns the indices of the sorted elements\n",
    "np.argsort(x) # retrun index of sorted element"
   ]
  },
  {
   "cell_type": "code",
   "execution_count": 121,
   "id": "df08939b",
   "metadata": {},
   "outputs": [],
   "source": [
    "# sorting along rows and colums"
   ]
  },
  {
   "cell_type": "code",
   "execution_count": 122,
   "id": "0367e7bc",
   "metadata": {},
   "outputs": [],
   "source": [
    "np.random.seed(42)\n",
    "MatA = np.random.randint(0,10,size=(4,6))"
   ]
  },
  {
   "cell_type": "code",
   "execution_count": 123,
   "id": "d72c6b0c",
   "metadata": {},
   "outputs": [
    {
     "data": {
      "text/plain": [
       "array([[6, 3, 7, 4, 6, 9],\n",
       "       [2, 6, 7, 4, 3, 7],\n",
       "       [7, 2, 5, 4, 1, 7],\n",
       "       [5, 1, 4, 0, 9, 5]])"
      ]
     },
     "execution_count": 123,
     "metadata": {},
     "output_type": "execute_result"
    }
   ],
   "source": [
    "MatA"
   ]
  },
  {
   "cell_type": "code",
   "execution_count": 124,
   "id": "c95c30f0",
   "metadata": {},
   "outputs": [
    {
     "data": {
      "text/plain": [
       "array([[2, 1, 4, 0, 1, 5],\n",
       "       [5, 2, 5, 4, 3, 7],\n",
       "       [6, 3, 7, 4, 6, 7],\n",
       "       [7, 6, 7, 4, 9, 9]])"
      ]
     },
     "execution_count": 124,
     "metadata": {},
     "output_type": "execute_result"
    }
   ],
   "source": [
    "np.sort(MatA,axis=0) # columms"
   ]
  },
  {
   "cell_type": "code",
   "execution_count": 125,
   "id": "18e5b9e9",
   "metadata": {},
   "outputs": [
    {
     "data": {
      "text/plain": [
       "array([[3, 4, 6, 6, 7, 9],\n",
       "       [2, 3, 4, 6, 7, 7],\n",
       "       [1, 2, 4, 5, 7, 7],\n",
       "       [0, 1, 4, 5, 5, 9]])"
      ]
     },
     "execution_count": 125,
     "metadata": {},
     "output_type": "execute_result"
    }
   ],
   "source": [
    "np.sort(MatA,axis=1) # row"
   ]
  },
  {
   "cell_type": "code",
   "execution_count": 126,
   "id": "5e0c6679",
   "metadata": {},
   "outputs": [],
   "source": [
    "# linear algebra"
   ]
  },
  {
   "cell_type": "code",
   "execution_count": 128,
   "id": "33f3d68a",
   "metadata": {},
   "outputs": [],
   "source": [
    "A = np.array([[1,2,3],\n",
    "              [4,5,6],\n",
    "             [7,8,9]])"
   ]
  },
  {
   "cell_type": "code",
   "execution_count": 127,
   "id": "4ae1b1cc",
   "metadata": {},
   "outputs": [],
   "source": [
    "B = np.array([[6,5],\n",
    "             [4,3],\n",
    "             [2,1]])"
   ]
  },
  {
   "cell_type": "code",
   "execution_count": 129,
   "id": "38decd32",
   "metadata": {},
   "outputs": [
    {
     "data": {
      "text/plain": [
       "array([[20, 14],\n",
       "       [56, 41],\n",
       "       [92, 68]])"
      ]
     },
     "execution_count": 129,
     "metadata": {},
     "output_type": "execute_result"
    }
   ],
   "source": [
    "# A 3x3 dot product B (3x2)\n",
    "A.dot(B)"
   ]
  },
  {
   "cell_type": "code",
   "execution_count": 130,
   "id": "dcb3bc7c",
   "metadata": {},
   "outputs": [
    {
     "data": {
      "text/plain": [
       "array([[20, 14],\n",
       "       [56, 41],\n",
       "       [92, 68]])"
      ]
     },
     "execution_count": 130,
     "metadata": {},
     "output_type": "execute_result"
    }
   ],
   "source": [
    "A @ B"
   ]
  },
  {
   "cell_type": "code",
   "execution_count": 131,
   "id": "facecbd2",
   "metadata": {},
   "outputs": [
    {
     "data": {
      "text/plain": [
       "array([[6, 4, 2],\n",
       "       [5, 3, 1]])"
      ]
     },
     "execution_count": 131,
     "metadata": {},
     "output_type": "execute_result"
    }
   ],
   "source": [
    "# B dot A\n",
    "B.T"
   ]
  },
  {
   "cell_type": "code",
   "execution_count": 132,
   "id": "1fa856a2",
   "metadata": {},
   "outputs": [],
   "source": [
    "a4 = np.random.randint(10, size=(2,3,4,5))"
   ]
  },
  {
   "cell_type": "code",
   "execution_count": 133,
   "id": "35b395bc",
   "metadata": {},
   "outputs": [
    {
     "data": {
      "text/plain": [
       "array([[[[8, 0, 9, 2, 6],\n",
       "         [3, 8, 2, 4, 2],\n",
       "         [6, 4, 8, 6, 1],\n",
       "         [3, 8, 1, 9, 8]],\n",
       "\n",
       "        [[9, 4, 1, 3, 6],\n",
       "         [7, 2, 0, 3, 1],\n",
       "         [7, 3, 1, 5, 5],\n",
       "         [9, 3, 5, 1, 9]],\n",
       "\n",
       "        [[1, 9, 3, 7, 6],\n",
       "         [8, 7, 4, 1, 4],\n",
       "         [7, 9, 8, 8, 0],\n",
       "         [8, 6, 8, 7, 0]]],\n",
       "\n",
       "\n",
       "       [[[7, 7, 2, 0, 7],\n",
       "         [2, 2, 0, 4, 9],\n",
       "         [6, 9, 8, 6, 8],\n",
       "         [7, 1, 0, 6, 6]],\n",
       "\n",
       "        [[7, 4, 2, 7, 5],\n",
       "         [2, 0, 2, 4, 2],\n",
       "         [0, 4, 9, 6, 6],\n",
       "         [8, 9, 9, 2, 6]],\n",
       "\n",
       "        [[0, 3, 3, 4, 6],\n",
       "         [6, 3, 6, 2, 5],\n",
       "         [1, 9, 8, 4, 5],\n",
       "         [3, 9, 6, 8, 6]]]])"
      ]
     },
     "execution_count": 133,
     "metadata": {},
     "output_type": "execute_result"
    }
   ],
   "source": [
    "a4"
   ]
  },
  {
   "cell_type": "code",
   "execution_count": null,
   "id": "920c180f",
   "metadata": {},
   "outputs": [],
   "source": []
  },
  {
   "cell_type": "code",
   "execution_count": null,
   "id": "3df7172a",
   "metadata": {},
   "outputs": [],
   "source": []
  }
 ],
 "metadata": {
  "kernelspec": {
   "display_name": "Python 3 (ipykernel)",
   "language": "python",
   "name": "python3"
  },
  "language_info": {
   "codemirror_mode": {
    "name": "ipython",
    "version": 3
   },
   "file_extension": ".py",
   "mimetype": "text/x-python",
   "name": "python",
   "nbconvert_exporter": "python",
   "pygments_lexer": "ipython3",
   "version": "3.9.13"
  }
 },
 "nbformat": 4,
 "nbformat_minor": 5
}
